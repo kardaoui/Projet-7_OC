{
 "cells": [
  {
   "cell_type": "code",
   "execution_count": 1,
   "id": "bb123377",
   "metadata": {},
   "outputs": [
    {
     "ename": "ModuleNotFoundError",
     "evalue": "No module named 'dtale'",
     "output_type": "error",
     "traceback": [
      "\u001b[1;31m---------------------------------------------------------------------------\u001b[0m",
      "\u001b[1;31mModuleNotFoundError\u001b[0m                       Traceback (most recent call last)",
      "\u001b[1;32m<ipython-input-1-9d71f70b2f43>\u001b[0m in \u001b[0;36m<module>\u001b[1;34m\u001b[0m\n\u001b[0;32m      2\u001b[0m \u001b[1;32mimport\u001b[0m \u001b[0mnumpy\u001b[0m \u001b[1;32mas\u001b[0m \u001b[0mnp\u001b[0m\u001b[1;33m\u001b[0m\u001b[1;33m\u001b[0m\u001b[0m\n\u001b[0;32m      3\u001b[0m \u001b[1;33m\u001b[0m\u001b[0m\n\u001b[1;32m----> 4\u001b[1;33m \u001b[1;32mimport\u001b[0m \u001b[0mdtale\u001b[0m\u001b[1;33m\u001b[0m\u001b[1;33m\u001b[0m\u001b[0m\n\u001b[0m\u001b[0;32m      5\u001b[0m \u001b[1;32mimport\u001b[0m \u001b[0mos\u001b[0m\u001b[1;33m\u001b[0m\u001b[1;33m\u001b[0m\u001b[0m\n",
      "\u001b[1;31mModuleNotFoundError\u001b[0m: No module named 'dtale'"
     ]
    }
   ],
   "source": [
    "import pandas as pd\n",
    "import numpy as np\n",
    "\n",
    "import dtale\n",
    "import os"
   ]
  },
  {
   "cell_type": "code",
   "execution_count": 5,
   "id": "80ab5b1c",
   "metadata": {},
   "outputs": [],
   "source": [
    "list_files = os.listdir(\"data\")"
   ]
  },
  {
   "cell_type": "code",
   "execution_count": 6,
   "id": "1ec70c1f",
   "metadata": {},
   "outputs": [
    {
     "data": {
      "text/plain": [
       "['application_test.csv',\n",
       " 'application_train.csv',\n",
       " 'bureau.csv',\n",
       " 'bureau_balance.csv',\n",
       " 'credit_card_balance.csv',\n",
       " 'HomeCredit_columns_description.csv',\n",
       " 'installments_payments.csv',\n",
       " 'POS_CASH_balance.csv',\n",
       " 'previous_application.csv',\n",
       " 'sample_submission.csv']"
      ]
     },
     "execution_count": 6,
     "metadata": {},
     "output_type": "execute_result"
    }
   ],
   "source": [
    "list_files"
   ]
  },
  {
   "cell_type": "code",
   "execution_count": 9,
   "id": "fc3df072",
   "metadata": {},
   "outputs": [],
   "source": [
    "df = pd.read_csv(\"data/application_train.csv\")"
   ]
  },
  {
   "cell_type": "code",
   "execution_count": 10,
   "id": "a2080d89",
   "metadata": {},
   "outputs": [
    {
     "data": {
      "text/html": [
       "\n",
       "        <iframe\n",
       "            width=\"100%\"\n",
       "            height=\"475\"\n",
       "            src=\"http://midounesk-PC:40000/dtale/iframe/1\"\n",
       "            frameborder=\"0\"\n",
       "            allowfullscreen\n",
       "        ></iframe>\n",
       "        "
      ],
      "text/plain": [
       "<IPython.lib.display.IFrame at 0x261ad420ec8>"
      ]
     },
     "metadata": {},
     "output_type": "display_data"
    },
    {
     "data": {
      "text/plain": []
     },
     "execution_count": 10,
     "metadata": {},
     "output_type": "execute_result"
    },
    {
     "name": "stderr",
     "output_type": "stream",
     "text": [
      "C:\\Users\\midounesk\\anaconda3\\lib\\site-packages\\dtale\\views.py:1705: FutureWarning:\n",
      "\n",
      "The default value of regex will change from True to False in a future version.\n",
      "\n",
      "C:\\Users\\midounesk\\anaconda3\\lib\\site-packages\\dtale\\views.py:1705: FutureWarning:\n",
      "\n",
      "The default value of regex will change from True to False in a future version.\n",
      "\n"
     ]
    },
    {
     "name": "stdout",
     "output_type": "stream",
     "text": [
      "Exception occurred while processing request: Could not convert value of 'y' into a numeric type.\n",
      "Traceback (most recent call last):\n",
      "  File \"C:\\Users\\midounesk\\anaconda3\\lib\\site-packages\\plotly\\express\\_core.py\", line 331, in make_trace_kwargs\n",
      "    y = y.astype(np.float64)\n",
      "ValueError: could not convert string to float: 'Cash loans'\n",
      "\n",
      "During handling of the above exception, another exception occurred:\n",
      "\n",
      "Traceback (most recent call last):\n",
      "  File \"C:\\Users\\midounesk\\anaconda3\\lib\\site-packages\\dtale\\views.py\", line 99, in _handle_exceptions\n",
      "    return func(*args, **kwargs)\n",
      "  File \"C:\\Users\\midounesk\\anaconda3\\lib\\site-packages\\dtale\\views.py\", line 2380, in get_column_analysis\n",
      "    return jsonify(**analysis.build())\n",
      "  File \"C:\\Users\\midounesk\\anaconda3\\lib\\site-packages\\dtale\\column_analysis.py\", line 139, in build\n",
      "    return_data, code = self.analysis.build(self)\n",
      "  File \"C:\\Users\\midounesk\\anaconda3\\lib\\site-packages\\dtale\\column_analysis.py\", line 547, in build\n",
      "    trend_line = px.scatter(x=qq_x, y=qq_y, trendline=\"ols\").data[1]\n",
      "  File \"C:\\Users\\midounesk\\anaconda3\\lib\\site-packages\\plotly\\express\\_chart_types.py\", line 64, in scatter\n",
      "    return make_figure(args=locals(), constructor=go.Scatter)\n",
      "  File \"C:\\Users\\midounesk\\anaconda3\\lib\\site-packages\\plotly\\express\\_core.py\", line 2017, in make_figure\n",
      "    args, trace_spec, group, mapping_labels.copy(), sizeref\n",
      "  File \"C:\\Users\\midounesk\\anaconda3\\lib\\site-packages\\plotly\\express\\_core.py\", line 334, in make_trace_kwargs\n",
      "    \"Could not convert value of 'y' into a numeric type.\"\n",
      "ValueError: Could not convert value of 'y' into a numeric type.\n"
     ]
    },
    {
     "name": "stderr",
     "output_type": "stream",
     "text": [
      "2021-05-03 12:52:57,311 - ERROR    - Exception occurred while processing request: Could not convert value of 'y' into a numeric type.\n",
      "Traceback (most recent call last):\n",
      "  File \"C:\\Users\\midounesk\\anaconda3\\lib\\site-packages\\plotly\\express\\_core.py\", line 331, in make_trace_kwargs\n",
      "    y = y.astype(np.float64)\n",
      "ValueError: could not convert string to float: 'Cash loans'\n",
      "\n",
      "During handling of the above exception, another exception occurred:\n",
      "\n",
      "Traceback (most recent call last):\n",
      "  File \"C:\\Users\\midounesk\\anaconda3\\lib\\site-packages\\dtale\\views.py\", line 99, in _handle_exceptions\n",
      "    return func(*args, **kwargs)\n",
      "  File \"C:\\Users\\midounesk\\anaconda3\\lib\\site-packages\\dtale\\views.py\", line 2380, in get_column_analysis\n",
      "    return jsonify(**analysis.build())\n",
      "  File \"C:\\Users\\midounesk\\anaconda3\\lib\\site-packages\\dtale\\column_analysis.py\", line 139, in build\n",
      "    return_data, code = self.analysis.build(self)\n",
      "  File \"C:\\Users\\midounesk\\anaconda3\\lib\\site-packages\\dtale\\column_analysis.py\", line 547, in build\n",
      "    trend_line = px.scatter(x=qq_x, y=qq_y, trendline=\"ols\").data[1]\n",
      "  File \"C:\\Users\\midounesk\\anaconda3\\lib\\site-packages\\plotly\\express\\_chart_types.py\", line 64, in scatter\n",
      "    return make_figure(args=locals(), constructor=go.Scatter)\n",
      "  File \"C:\\Users\\midounesk\\anaconda3\\lib\\site-packages\\plotly\\express\\_core.py\", line 2017, in make_figure\n",
      "    args, trace_spec, group, mapping_labels.copy(), sizeref\n",
      "  File \"C:\\Users\\midounesk\\anaconda3\\lib\\site-packages\\plotly\\express\\_core.py\", line 334, in make_trace_kwargs\n",
      "    \"Could not convert value of 'y' into a numeric type.\"\n",
      "ValueError: Could not convert value of 'y' into a numeric type.\n",
      "C:\\Users\\midounesk\\anaconda3\\lib\\site-packages\\dtale\\views.py:1705: FutureWarning:\n",
      "\n",
      "The default value of regex will change from True to False in a future version.\n",
      "\n",
      "C:\\Users\\midounesk\\anaconda3\\lib\\site-packages\\dtale\\views.py:1705: FutureWarning:\n",
      "\n",
      "The default value of regex will change from True to False in a future version.\n",
      "\n",
      "C:\\Users\\midounesk\\anaconda3\\lib\\site-packages\\dtale\\views.py:1705: FutureWarning:\n",
      "\n",
      "The default value of regex will change from True to False in a future version.\n",
      "\n"
     ]
    },
    {
     "name": "stdout",
     "output_type": "stream",
     "text": [
      "Exception occurred while processing request: The number of FixedLocator locations (0), usually from a call to set_ticks, does not match the number of ticklabels (122).\n",
      "Traceback (most recent call last):\n",
      "  File \"C:\\Users\\midounesk\\anaconda3\\lib\\site-packages\\dtale\\views.py\", line 99, in _handle_exceptions\n",
      "    return func(*args, **kwargs)\n",
      "  File \"C:\\Users\\midounesk\\anaconda3\\lib\\site-packages\\dtale\\views.py\", line 3243, in build_missingno_chart\n",
      "    figure = msno.bar(df)\n",
      "  File \"C:\\Users\\midounesk\\anaconda3\\lib\\site-packages\\missingno\\missingno.py\", line 266, in bar\n",
      "    ax3.set_xticklabels(nullity_counts.values, fontsize=fontsize, rotation=45, ha='left')\n",
      "  File \"C:\\Users\\midounesk\\anaconda3\\lib\\site-packages\\matplotlib\\axes\\_base.py\", line 63, in wrapper\n",
      "    return get_method(self)(*args, **kwargs)\n",
      "  File \"C:\\Users\\midounesk\\anaconda3\\lib\\site-packages\\matplotlib\\cbook\\deprecation.py\", line 451, in wrapper\n",
      "    return func(*args, **kwargs)\n",
      "  File \"C:\\Users\\midounesk\\anaconda3\\lib\\site-packages\\matplotlib\\axis.py\", line 1796, in _set_ticklabels\n",
      "    return self.set_ticklabels(labels, minor=minor, **kwargs)\n",
      "  File \"C:\\Users\\midounesk\\anaconda3\\lib\\site-packages\\matplotlib\\axis.py\", line 1718, in set_ticklabels\n",
      "    \"The number of FixedLocator locations\"\n",
      "ValueError: The number of FixedLocator locations (0), usually from a call to set_ticks, does not match the number of ticklabels (122).\n"
     ]
    },
    {
     "name": "stderr",
     "output_type": "stream",
     "text": [
      "2021-05-03 12:57:11,906 - ERROR    - Exception occurred while processing request: The number of FixedLocator locations (0), usually from a call to set_ticks, does not match the number of ticklabels (122).\n",
      "Traceback (most recent call last):\n",
      "  File \"C:\\Users\\midounesk\\anaconda3\\lib\\site-packages\\dtale\\views.py\", line 99, in _handle_exceptions\n",
      "    return func(*args, **kwargs)\n",
      "  File \"C:\\Users\\midounesk\\anaconda3\\lib\\site-packages\\dtale\\views.py\", line 3243, in build_missingno_chart\n",
      "    figure = msno.bar(df)\n",
      "  File \"C:\\Users\\midounesk\\anaconda3\\lib\\site-packages\\missingno\\missingno.py\", line 266, in bar\n",
      "    ax3.set_xticklabels(nullity_counts.values, fontsize=fontsize, rotation=45, ha='left')\n",
      "  File \"C:\\Users\\midounesk\\anaconda3\\lib\\site-packages\\matplotlib\\axes\\_base.py\", line 63, in wrapper\n",
      "    return get_method(self)(*args, **kwargs)\n",
      "  File \"C:\\Users\\midounesk\\anaconda3\\lib\\site-packages\\matplotlib\\cbook\\deprecation.py\", line 451, in wrapper\n",
      "    return func(*args, **kwargs)\n",
      "  File \"C:\\Users\\midounesk\\anaconda3\\lib\\site-packages\\matplotlib\\axis.py\", line 1796, in _set_ticklabels\n",
      "    return self.set_ticklabels(labels, minor=minor, **kwargs)\n",
      "  File \"C:\\Users\\midounesk\\anaconda3\\lib\\site-packages\\matplotlib\\axis.py\", line 1718, in set_ticklabels\n",
      "    \"The number of FixedLocator locations\"\n",
      "ValueError: The number of FixedLocator locations (0), usually from a call to set_ticks, does not match the number of ticklabels (122).\n",
      "C:\\Users\\midounesk\\anaconda3\\lib\\site-packages\\scipy\\stats\\morestats.py:1681: UserWarning:\n",
      "\n",
      "p-value may not be accurate for N > 5000.\n",
      "\n"
     ]
    }
   ],
   "source": [
    "dtale.show(df)"
   ]
  },
  {
   "cell_type": "code",
   "execution_count": null,
   "id": "61041529",
   "metadata": {},
   "outputs": [],
   "source": []
  }
 ],
 "metadata": {
  "kernelspec": {
   "display_name": "Python 3",
   "language": "python",
   "name": "python3"
  },
  "language_info": {
   "codemirror_mode": {
    "name": "ipython",
    "version": 3
   },
   "file_extension": ".py",
   "mimetype": "text/x-python",
   "name": "python",
   "nbconvert_exporter": "python",
   "pygments_lexer": "ipython3",
   "version": "3.8.8"
  },
  "toc": {
   "base_numbering": 1,
   "nav_menu": {},
   "number_sections": true,
   "sideBar": true,
   "skip_h1_title": false,
   "title_cell": "Table of Contents",
   "title_sidebar": "Contents",
   "toc_cell": false,
   "toc_position": {},
   "toc_section_display": true,
   "toc_window_display": false
  }
 },
 "nbformat": 4,
 "nbformat_minor": 5
}
