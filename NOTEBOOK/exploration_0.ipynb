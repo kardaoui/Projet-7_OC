{
 "cells": [
  {
   "cell_type": "code",
   "execution_count": 1,
   "id": "8ada1971-1fb6-486e-ad02-78ec4d3d1fcc",
   "metadata": {},
   "outputs": [],
   "source": [
    "import numpy as np\n",
    "import pandas as pd\n",
    "\n",
    "import matplotlib.pyplot as plt\n",
    "import seaborn as sns\n",
    "import plotly.express as px"
   ]
  },
  {
   "cell_type": "markdown",
   "id": "38c6850e-5617-463a-b9d1-780b50416791",
   "metadata": {},
   "source": [
    "## 0. Importation des données"
   ]
  },
  {
   "cell_type": "code",
   "execution_count": 2,
   "id": "acf35bd9-8b4c-4ddf-9640-9a8a812a6eb0",
   "metadata": {},
   "outputs": [],
   "source": [
    "data0 = pd.read_csv(\"X_data.csv\")\n",
    "target = pd.read_csv(\"target.csv\")"
   ]
  },
  {
   "cell_type": "code",
   "execution_count": 3,
   "id": "84e63523-f4df-45ab-ae4c-7e0777d97dd1",
   "metadata": {},
   "outputs": [],
   "source": [
    "data = pd.concat([data0,target], axis=1).drop(\"Unnamed: 0\", axis=1)\n",
    "data.set_index(\"SK_ID_CURR\",inplace=True)"
   ]
  },
  {
   "cell_type": "code",
   "execution_count": 4,
   "id": "80d32a76-cf20-4259-988c-6a259e890605",
   "metadata": {},
   "outputs": [
    {
     "data": {
      "text/html": [
       "<div>\n",
       "<style scoped>\n",
       "    .dataframe tbody tr th:only-of-type {\n",
       "        vertical-align: middle;\n",
       "    }\n",
       "\n",
       "    .dataframe tbody tr th {\n",
       "        vertical-align: top;\n",
       "    }\n",
       "\n",
       "    .dataframe thead th {\n",
       "        text-align: right;\n",
       "    }\n",
       "</style>\n",
       "<table border=\"1\" class=\"dataframe\">\n",
       "  <thead>\n",
       "    <tr style=\"text-align: right;\">\n",
       "      <th></th>\n",
       "      <th>OCCUPATION_TYPE</th>\n",
       "      <th>NAME_TYPE_SUITE</th>\n",
       "      <th>AMT_INCOME_TOTAL</th>\n",
       "      <th>CODE_GENDER</th>\n",
       "      <th>FLAG_OWN_CAR</th>\n",
       "      <th>FLAG_OWN_REALTY</th>\n",
       "      <th>DAYS_LAST_PHONE_CHANGE</th>\n",
       "      <th>CNT_CHILDREN</th>\n",
       "      <th>AMT_CREDIT</th>\n",
       "      <th>ORGANIZATION_TYPE</th>\n",
       "      <th>...</th>\n",
       "      <th>DAYS_ID_PUBLISH</th>\n",
       "      <th>DAYS_REGISTRATION</th>\n",
       "      <th>DAYS_EMPLOYED</th>\n",
       "      <th>DAYS_BIRTH</th>\n",
       "      <th>REGION_POPULATION_RELATIVE</th>\n",
       "      <th>NAME_HOUSING_TYPE</th>\n",
       "      <th>NAME_FAMILY_STATUS</th>\n",
       "      <th>NAME_EDUCATION_TYPE</th>\n",
       "      <th>NAME_INCOME_TYPE</th>\n",
       "      <th>TARGET</th>\n",
       "    </tr>\n",
       "    <tr>\n",
       "      <th>SK_ID_CURR</th>\n",
       "      <th></th>\n",
       "      <th></th>\n",
       "      <th></th>\n",
       "      <th></th>\n",
       "      <th></th>\n",
       "      <th></th>\n",
       "      <th></th>\n",
       "      <th></th>\n",
       "      <th></th>\n",
       "      <th></th>\n",
       "      <th></th>\n",
       "      <th></th>\n",
       "      <th></th>\n",
       "      <th></th>\n",
       "      <th></th>\n",
       "      <th></th>\n",
       "      <th></th>\n",
       "      <th></th>\n",
       "      <th></th>\n",
       "      <th></th>\n",
       "      <th></th>\n",
       "    </tr>\n",
       "  </thead>\n",
       "  <tbody>\n",
       "    <tr>\n",
       "      <th>100002</th>\n",
       "      <td>Laborers</td>\n",
       "      <td>Unaccompanied</td>\n",
       "      <td>202500.0</td>\n",
       "      <td>M</td>\n",
       "      <td>N</td>\n",
       "      <td>Y</td>\n",
       "      <td>-1134.0</td>\n",
       "      <td>0</td>\n",
       "      <td>406597.5</td>\n",
       "      <td>Business Entity</td>\n",
       "      <td>...</td>\n",
       "      <td>-2120</td>\n",
       "      <td>-3648.0</td>\n",
       "      <td>-637</td>\n",
       "      <td>-9461</td>\n",
       "      <td>0.018801</td>\n",
       "      <td>House / apartment</td>\n",
       "      <td>Single / not married</td>\n",
       "      <td>Secondary / secondary special</td>\n",
       "      <td>Working</td>\n",
       "      <td>1</td>\n",
       "    </tr>\n",
       "    <tr>\n",
       "      <th>100003</th>\n",
       "      <td>Core staff</td>\n",
       "      <td>Family</td>\n",
       "      <td>270000.0</td>\n",
       "      <td>F</td>\n",
       "      <td>N</td>\n",
       "      <td>N</td>\n",
       "      <td>-828.0</td>\n",
       "      <td>0</td>\n",
       "      <td>1293502.5</td>\n",
       "      <td>School</td>\n",
       "      <td>...</td>\n",
       "      <td>-291</td>\n",
       "      <td>-1186.0</td>\n",
       "      <td>-1188</td>\n",
       "      <td>-16765</td>\n",
       "      <td>0.003541</td>\n",
       "      <td>House / apartment</td>\n",
       "      <td>Married</td>\n",
       "      <td>Higher education</td>\n",
       "      <td>State servant</td>\n",
       "      <td>0</td>\n",
       "    </tr>\n",
       "    <tr>\n",
       "      <th>100004</th>\n",
       "      <td>Laborers</td>\n",
       "      <td>Unaccompanied</td>\n",
       "      <td>67500.0</td>\n",
       "      <td>M</td>\n",
       "      <td>Y</td>\n",
       "      <td>Y</td>\n",
       "      <td>-815.0</td>\n",
       "      <td>0</td>\n",
       "      <td>135000.0</td>\n",
       "      <td>Government</td>\n",
       "      <td>...</td>\n",
       "      <td>-2531</td>\n",
       "      <td>-4260.0</td>\n",
       "      <td>-225</td>\n",
       "      <td>-19046</td>\n",
       "      <td>0.010032</td>\n",
       "      <td>House / apartment</td>\n",
       "      <td>Single / not married</td>\n",
       "      <td>Secondary / secondary special</td>\n",
       "      <td>Working</td>\n",
       "      <td>0</td>\n",
       "    </tr>\n",
       "    <tr>\n",
       "      <th>100006</th>\n",
       "      <td>Laborers</td>\n",
       "      <td>Unaccompanied</td>\n",
       "      <td>135000.0</td>\n",
       "      <td>F</td>\n",
       "      <td>N</td>\n",
       "      <td>Y</td>\n",
       "      <td>-617.0</td>\n",
       "      <td>0</td>\n",
       "      <td>312682.5</td>\n",
       "      <td>Business Entity</td>\n",
       "      <td>...</td>\n",
       "      <td>-2437</td>\n",
       "      <td>-9833.0</td>\n",
       "      <td>-3039</td>\n",
       "      <td>-19005</td>\n",
       "      <td>0.008019</td>\n",
       "      <td>House / apartment</td>\n",
       "      <td>Civil marriage</td>\n",
       "      <td>Secondary / secondary special</td>\n",
       "      <td>Working</td>\n",
       "      <td>0</td>\n",
       "    </tr>\n",
       "    <tr>\n",
       "      <th>100007</th>\n",
       "      <td>Core staff</td>\n",
       "      <td>Unaccompanied</td>\n",
       "      <td>121500.0</td>\n",
       "      <td>M</td>\n",
       "      <td>N</td>\n",
       "      <td>Y</td>\n",
       "      <td>-1106.0</td>\n",
       "      <td>0</td>\n",
       "      <td>513000.0</td>\n",
       "      <td>Religion</td>\n",
       "      <td>...</td>\n",
       "      <td>-3458</td>\n",
       "      <td>-4311.0</td>\n",
       "      <td>-3038</td>\n",
       "      <td>-19932</td>\n",
       "      <td>0.028663</td>\n",
       "      <td>House / apartment</td>\n",
       "      <td>Single / not married</td>\n",
       "      <td>Secondary / secondary special</td>\n",
       "      <td>Working</td>\n",
       "      <td>0</td>\n",
       "    </tr>\n",
       "  </tbody>\n",
       "</table>\n",
       "<p>5 rows × 29 columns</p>\n",
       "</div>"
      ],
      "text/plain": [
       "           OCCUPATION_TYPE NAME_TYPE_SUITE  AMT_INCOME_TOTAL CODE_GENDER  \\\n",
       "SK_ID_CURR                                                                 \n",
       "100002            Laborers   Unaccompanied          202500.0           M   \n",
       "100003          Core staff          Family          270000.0           F   \n",
       "100004            Laborers   Unaccompanied           67500.0           M   \n",
       "100006            Laborers   Unaccompanied          135000.0           F   \n",
       "100007          Core staff   Unaccompanied          121500.0           M   \n",
       "\n",
       "           FLAG_OWN_CAR FLAG_OWN_REALTY  DAYS_LAST_PHONE_CHANGE  CNT_CHILDREN  \\\n",
       "SK_ID_CURR                                                                      \n",
       "100002                N               Y                 -1134.0             0   \n",
       "100003                N               N                  -828.0             0   \n",
       "100004                Y               Y                  -815.0             0   \n",
       "100006                N               Y                  -617.0             0   \n",
       "100007                N               Y                 -1106.0             0   \n",
       "\n",
       "            AMT_CREDIT ORGANIZATION_TYPE  ...  DAYS_ID_PUBLISH  \\\n",
       "SK_ID_CURR                                ...                    \n",
       "100002        406597.5   Business Entity  ...            -2120   \n",
       "100003       1293502.5            School  ...             -291   \n",
       "100004        135000.0        Government  ...            -2531   \n",
       "100006        312682.5   Business Entity  ...            -2437   \n",
       "100007        513000.0          Religion  ...            -3458   \n",
       "\n",
       "           DAYS_REGISTRATION  DAYS_EMPLOYED  DAYS_BIRTH  \\\n",
       "SK_ID_CURR                                                \n",
       "100002               -3648.0           -637       -9461   \n",
       "100003               -1186.0          -1188      -16765   \n",
       "100004               -4260.0           -225      -19046   \n",
       "100006               -9833.0          -3039      -19005   \n",
       "100007               -4311.0          -3038      -19932   \n",
       "\n",
       "           REGION_POPULATION_RELATIVE  NAME_HOUSING_TYPE  \\\n",
       "SK_ID_CURR                                                 \n",
       "100002                       0.018801  House / apartment   \n",
       "100003                       0.003541  House / apartment   \n",
       "100004                       0.010032  House / apartment   \n",
       "100006                       0.008019  House / apartment   \n",
       "100007                       0.028663  House / apartment   \n",
       "\n",
       "              NAME_FAMILY_STATUS            NAME_EDUCATION_TYPE  \\\n",
       "SK_ID_CURR                                                        \n",
       "100002      Single / not married  Secondary / secondary special   \n",
       "100003                   Married               Higher education   \n",
       "100004      Single / not married  Secondary / secondary special   \n",
       "100006            Civil marriage  Secondary / secondary special   \n",
       "100007      Single / not married  Secondary / secondary special   \n",
       "\n",
       "            NAME_INCOME_TYPE  TARGET  \n",
       "SK_ID_CURR                            \n",
       "100002               Working       1  \n",
       "100003         State servant       0  \n",
       "100004               Working       0  \n",
       "100006               Working       0  \n",
       "100007               Working       0  \n",
       "\n",
       "[5 rows x 29 columns]"
      ]
     },
     "execution_count": 4,
     "metadata": {},
     "output_type": "execute_result"
    }
   ],
   "source": [
    "data.head()"
   ]
  },
  {
   "cell_type": "code",
   "execution_count": 5,
   "id": "cd349688-439e-491d-b01d-2671e9880c92",
   "metadata": {},
   "outputs": [],
   "source": [
    "col_to_object = [\"REG_CITY_NOT_WORK_CITY\",\n",
    "                \"REGION_RATING_CLIENT\",\n",
    "                \"FLAG_PHONE\",\n",
    "                \"FLAG_WORK_PHONE\",\n",
    "                \"FLAG_EMP_PHONE\",\n",
    "                \"TARGET\"]"
   ]
  },
  {
   "cell_type": "code",
   "execution_count": 6,
   "id": "a51eeefd-3b55-400b-a065-043ce0c0eea0",
   "metadata": {},
   "outputs": [],
   "source": [
    "data[col_to_object] = data[col_to_object].astype(\"object\")"
   ]
  },
  {
   "cell_type": "code",
   "execution_count": 7,
   "id": "b517d7cc-fc0c-45c1-9238-1557079ce867",
   "metadata": {},
   "outputs": [
    {
     "name": "stdout",
     "output_type": "stream",
     "text": [
      "<class 'pandas.core.frame.DataFrame'>\n",
      "Int64Index: 252118 entries, 100002 to 456255\n",
      "Data columns (total 29 columns):\n",
      " #   Column                      Non-Null Count   Dtype  \n",
      "---  ------                      --------------   -----  \n",
      " 0   OCCUPATION_TYPE             252118 non-null  object \n",
      " 1   NAME_TYPE_SUITE             252118 non-null  object \n",
      " 2   AMT_INCOME_TOTAL            252118 non-null  float64\n",
      " 3   CODE_GENDER                 252118 non-null  object \n",
      " 4   FLAG_OWN_CAR                252118 non-null  object \n",
      " 5   FLAG_OWN_REALTY             252118 non-null  object \n",
      " 6   DAYS_LAST_PHONE_CHANGE      252118 non-null  float64\n",
      " 7   CNT_CHILDREN                252118 non-null  int64  \n",
      " 8   AMT_CREDIT                  252118 non-null  float64\n",
      " 9   ORGANIZATION_TYPE           252118 non-null  object \n",
      " 10  AMT_ANNUITY                 252118 non-null  float64\n",
      " 11  NAME_CONTRACT_TYPE          252118 non-null  object \n",
      " 12  REG_CITY_NOT_WORK_CITY      252118 non-null  object \n",
      " 13  HOUR_APPR_PROCESS_START     252118 non-null  int64  \n",
      " 14  WEEKDAY_APPR_PROCESS_START  252118 non-null  object \n",
      " 15  REGION_RATING_CLIENT        252118 non-null  object \n",
      " 16  FLAG_PHONE                  252118 non-null  object \n",
      " 17  FLAG_WORK_PHONE             252118 non-null  object \n",
      " 18  FLAG_EMP_PHONE              252118 non-null  object \n",
      " 19  DAYS_ID_PUBLISH             252118 non-null  int64  \n",
      " 20  DAYS_REGISTRATION           252118 non-null  float64\n",
      " 21  DAYS_EMPLOYED               252118 non-null  int64  \n",
      " 22  DAYS_BIRTH                  252118 non-null  int64  \n",
      " 23  REGION_POPULATION_RELATIVE  252118 non-null  float64\n",
      " 24  NAME_HOUSING_TYPE           252118 non-null  object \n",
      " 25  NAME_FAMILY_STATUS          252118 non-null  object \n",
      " 26  NAME_EDUCATION_TYPE         252118 non-null  object \n",
      " 27  NAME_INCOME_TYPE            252118 non-null  object \n",
      " 28  TARGET                      252118 non-null  object \n",
      "dtypes: float64(6), int64(5), object(18)\n",
      "memory usage: 57.7+ MB\n"
     ]
    }
   ],
   "source": [
    "data.info()"
   ]
  },
  {
   "cell_type": "markdown",
   "id": "67cfbfd4-46eb-4f4e-a99d-c5c6742aa8ba",
   "metadata": {},
   "source": [
    "## Code gender"
   ]
  },
  {
   "cell_type": "code",
   "execution_count": 8,
   "id": "50fd9208-9b5d-4cb3-80c1-ce6b7cf93171",
   "metadata": {},
   "outputs": [
    {
     "data": {
      "image/png": "[encoded data removed]",
      "text/plain": [
       "<Figure size 432x288 with 1 Axes>"
      ]
     },
     "metadata": {
      "needs_background": "light"
     },
     "output_type": "display_data"
    }
   ],
   "source": [
    "sns.countplot(data=data, x=\"CODE_GENDER\", hue=\"TARGET\")\n",
    "plt.show()"
   ]
  },
  {
   "cell_type": "markdown",
   "id": "17ed3126-8440-472e-91de-a563d518922d",
   "metadata": {},
   "source": [
    "## Type of contract"
   ]
  },
  {
   "cell_type": "code",
   "execution_count": 9,
   "id": "0159c3bb-7556-4fa7-9e33-26b2592b9ecc",
   "metadata": {},
   "outputs": [
    {
     "data": {
      "image/png": "[encoded data removed]",
      "text/plain": [
       "<Figure size 432x288 with 1 Axes>"
      ]
     },
     "metadata": {
      "needs_background": "light"
     },
     "output_type": "display_data"
    }
   ],
   "source": [
    "sns.countplot(data=data, x=\"NAME_CONTRACT_TYPE\", hue=\"TARGET\")\n",
    "plt.show()"
   ]
  },
  {
   "cell_type": "code",
   "execution_count": 10,
   "id": "034f3596-7d2d-4fdc-9826-fcbc45e7a397",
   "metadata": {},
   "outputs": [
    {
     "data": {
      "image/png": "[encoded data removed]",
      "text/plain": [
       "<Figure size 432x288 with 1 Axes>"
      ]
     },
     "metadata": {
      "needs_background": "light"
     },
     "output_type": "display_data"
    }
   ],
   "source": [
    "sns.countplot(data=data, x=\"OCCUPATION_TYPE\")\n",
    "plt.show()"
   ]
  },
  {
   "cell_type": "code",
   "execution_count": 11,
   "id": "7d84e026-d78b-4b58-9a6b-b8d188d513f3",
   "metadata": {},
   "outputs": [
    {
     "data": {
      "image/png": "[encoded data removed]",
      "text/plain": [
       "<Figure size 432x288 with 1 Axes>"
      ]
     },
     "metadata": {
      "needs_background": "light"
     },
     "output_type": "display_data"
    }
   ],
   "source": [
    "sns.countplot(data=data, x=\"FLAG_OWN_CAR\", hue=\"TARGET\")\n",
    "plt.show()"
   ]
  },
  {
   "cell_type": "code",
   "execution_count": 12,
   "id": "af208d05-2232-4a2a-8cbf-f02e275ca7b0",
   "metadata": {},
   "outputs": [
    {
     "data": {
      "image/png": "[encoded data removed]",
      "text/plain": [
       "<Figure size 432x288 with 1 Axes>"
      ]
     },
     "metadata": {
      "needs_background": "light"
     },
     "output_type": "display_data"
    }
   ],
   "source": [
    "sns.countplot(data=data, x=\"FLAG_OWN_REALTY\", hue=\"TARGET\")\n",
    "plt.show()"
   ]
  },
  {
   "cell_type": "code",
   "execution_count": 13,
   "id": "266fe819-8301-4901-a33d-fccaef00a85a",
   "metadata": {},
   "outputs": [
    {
     "data": {
      "image/png": "[encoded data removed]",
      "text/plain": [
       "<Figure size 432x288 with 1 Axes>"
      ]
     },
     "metadata": {
      "needs_background": "light"
     },
     "output_type": "display_data"
    }
   ],
   "source": [
    "sns.countplot(data=data, x=\"ORGANIZATION_TYPE\")\n",
    "plt.show()"
   ]
  },
  {
   "cell_type": "code",
   "execution_count": 14,
   "id": "78f306d2-9b1a-45bc-b8bd-0309e9801595",
   "metadata": {},
   "outputs": [
    {
     "data": {
      "image/png": "[encoded data removed]",
      "text/plain": [
       "<Figure size 432x288 with 1 Axes>"
      ]
     },
     "metadata": {
      "needs_background": "light"
     },
     "output_type": "display_data"
    }
   ],
   "source": [
    "sns.countplot(data=data, x=\"CNT_CHILDREN\", hue=\"TARGET\")\n",
    "plt.show()"
   ]
  },
  {
   "cell_type": "code",
   "execution_count": null,
   "id": "b52defdf-afbc-49b8-9110-d510f0f4edf2",
   "metadata": {},
   "outputs": [],
   "source": []
  }
 ],
 "metadata": {
  "kernelspec": {
   "display_name": "Python 3",
   "language": "python",
   "name": "python3"
  },
  "language_info": {
   "codemirror_mode": {
    "name": "ipython",
    "version": 3
   },
   "file_extension": ".py",
   "mimetype": "text/x-python",
   "name": "python",
   "nbconvert_exporter": "python",
   "pygments_lexer": "ipython3",
   "version": "3.8.8"
  }
 },
 "nbformat": 4,
 "nbformat_minor": 5
}
